{
 "cells": [
  {
   "cell_type": "code",
   "execution_count": 1,
   "metadata": {},
   "outputs": [
    {
     "name": "stdout",
     "output_type": "stream",
     "text": [
      "test\n"
     ]
    }
   ],
   "source": [
    "print(\"test\")"
   ]
  },
  {
   "cell_type": "code",
   "execution_count": 3,
   "metadata": {},
   "outputs": [
    {
     "data": {
      "text/plain": [
       "dict"
      ]
     },
     "execution_count": 3,
     "metadata": {},
     "output_type": "execute_result"
    }
   ],
   "source": [
    "from src.configs.get_config import get_config\n",
    "\n",
    "\n",
    "constraints_config = get_config(\"constraints_config\")\n",
    "\n",
    "config = get_config(\"input_data_config\")\n",
    "\n",
    "config[\"etl\"][\"school\"][\"col_mapping\"]"
   ]
  },
  {
   "cell_type": "code",
   "execution_count": 4,
   "metadata": {},
   "outputs": [
    {
     "data": {
      "text/plain": [
       "<generator object <genexpr> at 0x107b05a10>"
      ]
     },
     "execution_count": 4,
     "metadata": {},
     "output_type": "execute_result"
    }
   ],
   "source": [
    "availability = {}\n",
    "groups = [\"school_1\", \"school_2\", \"school_3\"]\n",
    "time_slots = [\"mon_1\", \"mon_2\", \"mon_3\"]\n",
    "teachers = [\"Floris\", \"Thomas\", \"Nils\"]\n",
    "\n",
    "for group in groups:\n",
    "    for time_slot in time_slots:\n",
    "        for teacher in teachers:\n",
    "            availability[(group, time_slot, teacher)] = 0\n",
    "\n",
    "\n",
    "availability = (\n",
    "    availability[(\"school_1\", \"mon_1\", teacher)] == 0 for teacher in teachers\n",
    ")\n",
    "# group_time_teacher_availability[()]\n",
    "\n",
    "availability"
   ]
  },
  {
   "cell_type": "code",
   "execution_count": null,
   "metadata": {},
   "outputs": [],
   "source": []
  }
 ],
 "metadata": {
  "kernelspec": {
   "display_name": ".venv",
   "language": "python",
   "name": "python3"
  },
  "language_info": {
   "codemirror_mode": {
    "name": "ipython",
    "version": 3
   },
   "file_extension": ".py",
   "mimetype": "text/x-python",
   "name": "python",
   "nbconvert_exporter": "python",
   "pygments_lexer": "ipython3",
   "version": "3.10.5"
  }
 },
 "nbformat": 4,
 "nbformat_minor": 2
}
