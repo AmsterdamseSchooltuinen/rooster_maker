{
 "cells": [
  {
   "cell_type": "code",
   "execution_count": 1,
   "metadata": {},
   "outputs": [],
   "source": [
    "%load_ext autoreload\n",
    "%autoreload 2"
   ]
  },
  {
   "cell_type": "code",
   "execution_count": 13,
   "metadata": {},
   "outputs": [
    {
     "name": "stdout",
     "output_type": "stream",
     "text": [
      "Aemstel Schooltuin\n"
     ]
    },
    {
     "data": {
      "text/plain": [
       "{6479: [692614, 692615, 692616, 692617],\n",
       " 6496: [692513, 692511],\n",
       " 6497: [692655],\n",
       " 6498: [692510],\n",
       " 6505: [690616, 690615],\n",
       " 8261: [690776],\n",
       " 6503: [690758],\n",
       " 6475: [690774, 692460],\n",
       " 6515: [690640]}"
      ]
     },
     "metadata": {},
     "output_type": "display_data"
    },
    {
     "name": "stdout",
     "output_type": "stream",
     "text": [
      "search space size: 630\n"
     ]
    },
    {
     "ename": "TypeError",
     "evalue": "not supported: model.get_or_make_boolean_index((((((((692614_maandag, 09:00-10:30_Sonja Hoekmeijer + 692614_maandag, 09:00-10:30_Jay Martel) + 692615_maandag, 09:00-10:30_Sonja Hoekmeijer) + 692615_maandag, 09:00-10:30_Jay Martel) + 692616_maandag, 09:00-10:30_Sonja Hoekmeijer) + 692616_maandag, 09:00-10:30_Jay Martel) + 692617_maandag, 09:00-10:30_Sonja Hoekmeijer) + 692617_maandag, 09:00-10:30_Jay Martel) == 0)",
     "output_type": "error",
     "traceback": [
      "\u001b[0;31m---------------------------------------------------------------------------\u001b[0m",
      "\u001b[0;31mTypeError\u001b[0m                                 Traceback (most recent call last)",
      "Cell \u001b[0;32mIn[13], line 13\u001b[0m\n\u001b[1;32m      9\u001b[0m current_school_data \u001b[38;5;241m=\u001b[39m school_df\u001b[38;5;241m.\u001b[39mloc[school_df[\u001b[38;5;124m\"\u001b[39m\u001b[38;5;124mgarden_name\u001b[39m\u001b[38;5;124m\"\u001b[39m] \u001b[38;5;241m==\u001b[39m GARDEN]\n\u001b[1;32m     10\u001b[0m current_garden_data \u001b[38;5;241m=\u001b[39m garden_df\u001b[38;5;241m.\u001b[39mloc[garden_df[\u001b[38;5;124m\"\u001b[39m\u001b[38;5;124mgarden_name\u001b[39m\u001b[38;5;124m\"\u001b[39m] \u001b[38;5;241m==\u001b[39m GARDEN]\n\u001b[0;32m---> 13\u001b[0m all_summary_stats, output \u001b[38;5;241m=\u001b[39m \u001b[43mrun_program\u001b[49m\u001b[43m(\u001b[49m\n\u001b[1;32m     14\u001b[0m \u001b[43m    \u001b[49m\u001b[43mschool_data\u001b[49m\u001b[38;5;241;43m=\u001b[39;49m\u001b[43mschool_df\u001b[49m\u001b[43m,\u001b[49m\n\u001b[1;32m     15\u001b[0m \u001b[43m    \u001b[49m\u001b[43mgarden_data\u001b[49m\u001b[38;5;241;43m=\u001b[39;49m\u001b[43mgarden_df\u001b[49m\u001b[43m,\u001b[49m\n\u001b[1;32m     16\u001b[0m \u001b[43m    \u001b[49m\u001b[43meducator_data\u001b[49m\u001b[38;5;241;43m=\u001b[39;49m\u001b[43meducator_df\u001b[49m\u001b[43m,\u001b[49m\n\u001b[1;32m     17\u001b[0m \u001b[43m    \u001b[49m\u001b[43mtime_slots\u001b[49m\u001b[38;5;241;43m=\u001b[39;49m\u001b[43mtime_slots\u001b[49m\u001b[43m,\u001b[49m\n\u001b[1;32m     18\u001b[0m \u001b[43m)\u001b[49m\n",
      "File \u001b[0;32m~/Documents/ADC/projects/Schooltuinen%20Amsterdam/src/runner.py:110\u001b[0m, in \u001b[0;36mrun_program\u001b[0;34m(school_data, garden_data, educator_data, time_slots)\u001b[0m\n\u001b[1;32m     84\u001b[0m current_garden \u001b[38;5;241m=\u001b[39m Garden(\n\u001b[1;32m     85\u001b[0m     name\u001b[38;5;241m=\u001b[39mgarden_name,\n\u001b[1;32m     86\u001b[0m     groups\u001b[38;5;241m=\u001b[39m[\u001b[38;5;28mint\u001b[39m(x) \u001b[38;5;28;01mfor\u001b[39;00m x \u001b[38;5;129;01min\u001b[39;00m current_school_data[\u001b[38;5;124m\"\u001b[39m\u001b[38;5;124mperiod_id\u001b[39m\u001b[38;5;124m\"\u001b[39m]\u001b[38;5;241m.\u001b[39munique()],\n\u001b[0;32m   (...)\u001b[0m\n\u001b[1;32m    106\u001b[0m     groups_that_go_together_with_bus_per_school\u001b[38;5;241m=\u001b[39mgroups_that_go_together_with_bus_per_school,\n\u001b[1;32m    107\u001b[0m )\n\u001b[1;32m    109\u001b[0m \u001b[38;5;66;03m# Solve the schedule problem\u001b[39;00m\n\u001b[0;32m--> 110\u001b[0m solver_result, assignment \u001b[38;5;241m=\u001b[39m \u001b[43msolve_schedule_problem\u001b[49m\u001b[43m(\u001b[49m\u001b[43mcurrent_garden\u001b[49m\u001b[43m)\u001b[49m\n\u001b[1;32m    112\u001b[0m display(current_educator_data)\n\u001b[1;32m    113\u001b[0m \u001b[38;5;66;03m# Get the summary statistics and output\u001b[39;00m\n",
      "File \u001b[0;32m~/Documents/ADC/projects/Schooltuinen%20Amsterdam/src/solver.py:22\u001b[0m, in \u001b[0;36msolve_schedule_problem\u001b[0;34m(garden)\u001b[0m\n\u001b[1;32m     18\u001b[0m \u001b[38;5;66;03m# print(garden.n_required_plots)\u001b[39;00m\n\u001b[1;32m     20\u001b[0m availability \u001b[38;5;241m=\u001b[39m make_group_teacher_time_slots_dict(garden, model)\n\u001b[0;32m---> 22\u001b[0m model \u001b[38;5;241m=\u001b[39m \u001b[43madd_constraints\u001b[49m\u001b[43m(\u001b[49m\n\u001b[1;32m     23\u001b[0m \u001b[43m    \u001b[49m\u001b[43mgarden\u001b[49m\u001b[43m,\u001b[49m\n\u001b[1;32m     24\u001b[0m \u001b[43m    \u001b[49m\u001b[43mmodel\u001b[49m\u001b[43m,\u001b[49m\n\u001b[1;32m     25\u001b[0m \u001b[43m    \u001b[49m\u001b[43mavailability\u001b[49m\u001b[43m,\u001b[49m\n\u001b[1;32m     26\u001b[0m \u001b[43m\u001b[49m\u001b[43m)\u001b[49m\n\u001b[1;32m     28\u001b[0m add_objective_function(\n\u001b[1;32m     29\u001b[0m     garden,\n\u001b[1;32m     30\u001b[0m     model,\n\u001b[1;32m     31\u001b[0m     availability,\n\u001b[1;32m     32\u001b[0m )\n\u001b[1;32m     34\u001b[0m \u001b[38;5;66;03m# Solve the model\u001b[39;00m\n",
      "File \u001b[0;32m~/Documents/ADC/projects/Schooltuinen%20Amsterdam/src/constraint_functions.py:253\u001b[0m, in \u001b[0;36madd_constraints\u001b[0;34m(garden, model, availability)\u001b[0m\n\u001b[1;32m    251\u001b[0m     \u001b[38;5;28;01mif\u001b[39;00m constraint \u001b[38;5;129;01mnot\u001b[39;00m \u001b[38;5;129;01min\u001b[39;00m CONSTRAINT_METHODS:\n\u001b[1;32m    252\u001b[0m         \u001b[38;5;28;01mraise\u001b[39;00m \u001b[38;5;167;01mValueError\u001b[39;00m(\u001b[38;5;124mf\u001b[39m\u001b[38;5;124m\"\u001b[39m\u001b[38;5;124mConstraint \u001b[39m\u001b[38;5;132;01m{\u001b[39;00mconstraint\u001b[38;5;132;01m}\u001b[39;00m\u001b[38;5;124m is not implemented.\u001b[39m\u001b[38;5;124m\"\u001b[39m)\n\u001b[0;32m--> 253\u001b[0m     model \u001b[38;5;241m=\u001b[39m \u001b[43mCONSTRAINT_METHODS\u001b[49m\u001b[43m[\u001b[49m\u001b[43mconstraint\u001b[49m\u001b[43m]\u001b[49m\u001b[43m(\u001b[49m\u001b[43mgarden\u001b[49m\u001b[43m,\u001b[49m\u001b[43m \u001b[49m\u001b[43mmodel\u001b[49m\u001b[43m,\u001b[49m\u001b[43m \u001b[49m\u001b[43mavailability\u001b[49m\u001b[43m)\u001b[49m\n\u001b[1;32m    255\u001b[0m \u001b[38;5;28;01mreturn\u001b[39;00m model\n",
      "File \u001b[0;32m~/Documents/ADC/projects/Schooltuinen%20Amsterdam/src/constraint_functions.py:168\u001b[0m, in \u001b[0;36mbus_groups_of_same_school_go_together\u001b[0;34m(garden, model, availability)\u001b[0m\n\u001b[1;32m    166\u001b[0m \u001b[38;5;28;01mfor\u001b[39;00m time \u001b[38;5;129;01min\u001b[39;00m garden\u001b[38;5;241m.\u001b[39mtime_slots:\n\u001b[1;32m    167\u001b[0m     \u001b[38;5;28;01mif\u001b[39;00m \u001b[38;5;28mlen\u001b[39m(groups) \u001b[38;5;241m<\u001b[39m\u001b[38;5;241m=\u001b[39m (garden\u001b[38;5;241m.\u001b[39mmax_buses_per_time_slot \u001b[38;5;241m*\u001b[39m \u001b[38;5;241m2\u001b[39m):\n\u001b[0;32m--> 168\u001b[0m         \u001b[43mmodel\u001b[49m\u001b[38;5;241;43m.\u001b[39;49m\u001b[43mAddBoolOr\u001b[49m\u001b[43m(\u001b[49m\n\u001b[1;32m    169\u001b[0m \u001b[43m            \u001b[49m\u001b[43m[\u001b[49m\n\u001b[1;32m    170\u001b[0m \u001b[43m                \u001b[49m\u001b[38;5;28;43msum\u001b[39;49m\u001b[43m(\u001b[49m\n\u001b[1;32m    171\u001b[0m \u001b[43m                    \u001b[49m\u001b[43mavailability\u001b[49m\u001b[43m[\u001b[49m\u001b[43m(\u001b[49m\u001b[43mgroup\u001b[49m\u001b[43m,\u001b[49m\u001b[43m \u001b[49m\u001b[43mtime\u001b[49m\u001b[43m,\u001b[49m\u001b[43m \u001b[49m\u001b[43mteacher\u001b[49m\u001b[43m)\u001b[49m\u001b[43m]\u001b[49m\n\u001b[1;32m    172\u001b[0m \u001b[43m                    \u001b[49m\u001b[38;5;28;43;01mfor\u001b[39;49;00m\u001b[43m \u001b[49m\u001b[43mgroup\u001b[49m\u001b[43m \u001b[49m\u001b[38;5;129;43;01min\u001b[39;49;00m\u001b[43m \u001b[49m\u001b[43mgroups\u001b[49m\n\u001b[1;32m    173\u001b[0m \u001b[43m                    \u001b[49m\u001b[38;5;28;43;01mfor\u001b[39;49;00m\u001b[43m \u001b[49m\u001b[43mteacher\u001b[49m\u001b[43m \u001b[49m\u001b[38;5;129;43;01min\u001b[39;49;00m\u001b[43m \u001b[49m\u001b[43mgarden\u001b[49m\u001b[38;5;241;43m.\u001b[39;49m\u001b[43mteachers\u001b[49m\n\u001b[1;32m    174\u001b[0m \u001b[43m                \u001b[49m\u001b[43m)\u001b[49m\n\u001b[1;32m    175\u001b[0m \u001b[43m                \u001b[49m\u001b[38;5;241;43m==\u001b[39;49m\u001b[43m \u001b[49m\u001b[38;5;241;43m0\u001b[39;49m\u001b[43m,\u001b[49m\n\u001b[1;32m    176\u001b[0m \u001b[43m                \u001b[49m\u001b[38;5;28;43msum\u001b[39;49m\u001b[43m(\u001b[49m\n\u001b[1;32m    177\u001b[0m \u001b[43m                    \u001b[49m\u001b[43mavailability\u001b[49m\u001b[43m[\u001b[49m\u001b[43m(\u001b[49m\u001b[43mgroup\u001b[49m\u001b[43m,\u001b[49m\u001b[43m \u001b[49m\u001b[43mtime\u001b[49m\u001b[43m,\u001b[49m\u001b[43m \u001b[49m\u001b[43mteacher\u001b[49m\u001b[43m)\u001b[49m\u001b[43m]\u001b[49m\n\u001b[1;32m    178\u001b[0m \u001b[43m                    \u001b[49m\u001b[38;5;28;43;01mfor\u001b[39;49;00m\u001b[43m \u001b[49m\u001b[43mgroup\u001b[49m\u001b[43m \u001b[49m\u001b[38;5;129;43;01min\u001b[39;49;00m\u001b[43m \u001b[49m\u001b[43mgroups\u001b[49m\n\u001b[1;32m    179\u001b[0m \u001b[43m                    \u001b[49m\u001b[38;5;28;43;01mfor\u001b[39;49;00m\u001b[43m \u001b[49m\u001b[43mteacher\u001b[49m\u001b[43m \u001b[49m\u001b[38;5;129;43;01min\u001b[39;49;00m\u001b[43m \u001b[49m\u001b[43mgarden\u001b[49m\u001b[38;5;241;43m.\u001b[39;49m\u001b[43mteachers\u001b[49m\n\u001b[1;32m    180\u001b[0m \u001b[43m                \u001b[49m\u001b[43m)\u001b[49m\n\u001b[1;32m    181\u001b[0m \u001b[43m                \u001b[49m\u001b[38;5;241;43m==\u001b[39;49m\u001b[43m \u001b[49m\u001b[38;5;241;43m0\u001b[39;49m\u001b[43m,\u001b[49m\n\u001b[1;32m    182\u001b[0m \u001b[43m            \u001b[49m\u001b[43m]\u001b[49m\n\u001b[1;32m    183\u001b[0m \u001b[43m        \u001b[49m\u001b[43m)\u001b[49m\n\u001b[1;32m    185\u001b[0m     \u001b[38;5;28;01melse\u001b[39;00m:\n\u001b[1;32m    186\u001b[0m         model\u001b[38;5;241m.\u001b[39mAdd(\n\u001b[1;32m    187\u001b[0m             [\n\u001b[1;32m    188\u001b[0m                 \u001b[38;5;66;03m# The groups go together at max capacity\u001b[39;00m\n\u001b[0;32m   (...)\u001b[0m\n\u001b[1;32m    209\u001b[0m             ]\n\u001b[1;32m    210\u001b[0m         )\n",
      "File \u001b[0;32m~/Documents/ADC/projects/Schooltuinen%20Amsterdam/.venv/lib/python3.10/site-packages/ortools/sat/python/cp_model.py:2067\u001b[0m, in \u001b[0;36mCpModel.add_bool_or\u001b[0;34m(self, *literals)\u001b[0m\n\u001b[1;32m   2064\u001b[0m ct \u001b[38;5;241m=\u001b[39m Constraint(\u001b[38;5;28mself\u001b[39m)\n\u001b[1;32m   2065\u001b[0m model_ct \u001b[38;5;241m=\u001b[39m \u001b[38;5;28mself\u001b[39m\u001b[38;5;241m.\u001b[39m__model\u001b[38;5;241m.\u001b[39mconstraints[ct\u001b[38;5;241m.\u001b[39mindex]\n\u001b[1;32m   2066\u001b[0m model_ct\u001b[38;5;241m.\u001b[39mbool_or\u001b[38;5;241m.\u001b[39mliterals\u001b[38;5;241m.\u001b[39mextend(\n\u001b[0;32m-> 2067\u001b[0m     [\n\u001b[1;32m   2068\u001b[0m         \u001b[38;5;28mself\u001b[39m\u001b[38;5;241m.\u001b[39mget_or_make_boolean_index(x)\n\u001b[1;32m   2069\u001b[0m         \u001b[38;5;28;01mfor\u001b[39;00m x \u001b[38;5;129;01min\u001b[39;00m expand_generator_or_tuple(literals)\n\u001b[1;32m   2070\u001b[0m     ]\n\u001b[1;32m   2071\u001b[0m )\n\u001b[1;32m   2072\u001b[0m \u001b[38;5;28;01mreturn\u001b[39;00m ct\n",
      "File \u001b[0;32m~/Documents/ADC/projects/Schooltuinen%20Amsterdam/.venv/lib/python3.10/site-packages/ortools/sat/python/cp_model.py:2068\u001b[0m, in \u001b[0;36m<listcomp>\u001b[0;34m(.0)\u001b[0m\n\u001b[1;32m   2064\u001b[0m ct \u001b[38;5;241m=\u001b[39m Constraint(\u001b[38;5;28mself\u001b[39m)\n\u001b[1;32m   2065\u001b[0m model_ct \u001b[38;5;241m=\u001b[39m \u001b[38;5;28mself\u001b[39m\u001b[38;5;241m.\u001b[39m__model\u001b[38;5;241m.\u001b[39mconstraints[ct\u001b[38;5;241m.\u001b[39mindex]\n\u001b[1;32m   2066\u001b[0m model_ct\u001b[38;5;241m.\u001b[39mbool_or\u001b[38;5;241m.\u001b[39mliterals\u001b[38;5;241m.\u001b[39mextend(\n\u001b[1;32m   2067\u001b[0m     [\n\u001b[0;32m-> 2068\u001b[0m         \u001b[38;5;28;43mself\u001b[39;49m\u001b[38;5;241;43m.\u001b[39;49m\u001b[43mget_or_make_boolean_index\u001b[49m\u001b[43m(\u001b[49m\u001b[43mx\u001b[49m\u001b[43m)\u001b[49m\n\u001b[1;32m   2069\u001b[0m         \u001b[38;5;28;01mfor\u001b[39;00m x \u001b[38;5;129;01min\u001b[39;00m expand_generator_or_tuple(literals)\n\u001b[1;32m   2070\u001b[0m     ]\n\u001b[1;32m   2071\u001b[0m )\n\u001b[1;32m   2072\u001b[0m \u001b[38;5;28;01mreturn\u001b[39;00m ct\n",
      "File \u001b[0;32m~/Documents/ADC/projects/Schooltuinen%20Amsterdam/.venv/lib/python3.10/site-packages/ortools/sat/python/cp_model.py:2800\u001b[0m, in \u001b[0;36mCpModel.get_or_make_boolean_index\u001b[0;34m(self, arg)\u001b[0m\n\u001b[1;32m   2798\u001b[0m \u001b[38;5;28;01mif\u001b[39;00m cmh\u001b[38;5;241m.\u001b[39mis_boolean(arg):\n\u001b[1;32m   2799\u001b[0m     \u001b[38;5;28;01mreturn\u001b[39;00m \u001b[38;5;28mself\u001b[39m\u001b[38;5;241m.\u001b[39mget_or_make_index_from_constant(\u001b[38;5;28mint\u001b[39m(arg))\n\u001b[0;32m-> 2800\u001b[0m \u001b[38;5;28;01mraise\u001b[39;00m \u001b[38;5;167;01mTypeError\u001b[39;00m(\u001b[38;5;124mf\u001b[39m\u001b[38;5;124m\"\u001b[39m\u001b[38;5;124mnot supported: model.get_or_make_boolean_index(\u001b[39m\u001b[38;5;132;01m{\u001b[39;00marg\u001b[38;5;132;01m}\u001b[39;00m\u001b[38;5;124m)\u001b[39m\u001b[38;5;124m\"\u001b[39m)\n",
      "\u001b[0;31mTypeError\u001b[0m: not supported: model.get_or_make_boolean_index((((((((692614_maandag, 09:00-10:30_Sonja Hoekmeijer + 692614_maandag, 09:00-10:30_Jay Martel) + 692615_maandag, 09:00-10:30_Sonja Hoekmeijer) + 692615_maandag, 09:00-10:30_Jay Martel) + 692616_maandag, 09:00-10:30_Sonja Hoekmeijer) + 692616_maandag, 09:00-10:30_Jay Martel) + 692617_maandag, 09:00-10:30_Sonja Hoekmeijer) + 692617_maandag, 09:00-10:30_Jay Martel) == 0)"
     ]
    }
   ],
   "source": [
    "from src.extract_transform_load import run_extract_transform_load\n",
    "from src.runner import run_program\n",
    "\n",
    "educator_df, garden_df, school_df, time_slots = run_extract_transform_load(\n",
    "    None, None, None\n",
    ")\n",
    "\n",
    "GARDEN = \"Aemstel Schooltuin\"\n",
    "current_school_data = school_df.loc[school_df[\"garden_name\"] == GARDEN]\n",
    "current_garden_data = garden_df.loc[garden_df[\"garden_name\"] == GARDEN]\n",
    "\n",
    "\n",
    "all_summary_stats, output = run_program(\n",
    "    school_data=school_df,\n",
    "    garden_data=garden_df,\n",
    "    educator_data=educator_df,\n",
    "    time_slots=time_slots,\n",
    ")"
   ]
  },
  {
   "cell_type": "code",
   "execution_count": 10,
   "metadata": {},
   "outputs": [
    {
     "data": {
      "text/plain": [
       "1"
      ]
     },
     "execution_count": 10,
     "metadata": {},
     "output_type": "execute_result"
    }
   ],
   "source": [
    "9 % 4"
   ]
  },
  {
   "cell_type": "code",
   "execution_count": null,
   "metadata": {},
   "outputs": [],
   "source": []
  }
 ],
 "metadata": {
  "kernelspec": {
   "display_name": ".venv",
   "language": "python",
   "name": "python3"
  },
  "language_info": {
   "codemirror_mode": {
    "name": "ipython",
    "version": 3
   },
   "file_extension": ".py",
   "mimetype": "text/x-python",
   "name": "python",
   "nbconvert_exporter": "python",
   "pygments_lexer": "ipython3",
   "version": "3.10.5"
  }
 },
 "nbformat": 4,
 "nbformat_minor": 2
}
